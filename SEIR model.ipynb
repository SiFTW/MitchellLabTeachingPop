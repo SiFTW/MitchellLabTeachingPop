{
 "cells": [
  {
   "cell_type": "markdown",
   "id": "4aef48ba",
   "metadata": {},
   "source": [
    "# SEIR model"
   ]
  },
  {
   "cell_type": "markdown",
   "id": "bb1b6938",
   "metadata": {},
   "source": [
    "#### This script is for an SEIR model to simulate an epidemic over time. The model consists of four differential equations describing the rate of change of variables over time. The 4 variables are:\n",
    "#### u[1] = S: Susceptible population\n",
    "#### u[2] = E: Exposed population\n",
    "#### u[3] = I: Infected population\n",
    "#### u[4] = R: Recovered population"
   ]
  },
  {
   "cell_type": "markdown",
   "id": "24dce855",
   "metadata": {},
   "source": [
    "![SIR overview](SEIRPicture.png)"
   ]
  },
  {
   "cell_type": "code",
   "execution_count": null,
   "id": "d41b1884",
   "metadata": {},
   "outputs": [],
   "source": [
    "using DifferentialEquations\n",
    "using Plots"
   ]
  },
  {
   "cell_type": "markdown",
   "id": "fbf6cd88",
   "metadata": {},
   "source": [
    "### Define parameters"
   ]
  },
  {
   "cell_type": "code",
   "execution_count": null,
   "id": "90e80a94",
   "metadata": {},
   "outputs": [],
   "source": [
    "r = 2;         # number of contacts per unit time\n",
    "beta = 5e-8    # Prob. of disease transmission\n",
    "sigma = 0.2   # incubation rate (exposed to infected)\n",
    "gamma = 0.12    # Recovery rate (Try 0.07)\n",
    "lambda = 10000     # Birth and immigration per year\n",
    "mu = 1/60      #Death and emigration per year\n",
    "epsilon = 1/5   # re-susceptability rate (recovered to susceptible)\n",
    "N = 6e7      # Population size N=S+I+R (To present as a ratio, use N=1. N=100 for percentage)"
   ]
  },
  {
   "cell_type": "markdown",
   "id": "df9ba67c",
   "metadata": {},
   "source": [
    "### Define differential equations"
   ]
  },
  {
   "cell_type": "code",
   "execution_count": null,
   "id": "de68ac6e",
   "metadata": {},
   "outputs": [],
   "source": [
    "function SEIR!(du,u,p,t)\n",
    "    du[1] = lambda - r.*beta.*u[1].*u[3] - mu.*u[1] + epsilon.*u[4]\n",
    "    du[2] = r.*beta.*u[1].*u[3] - sigma.*u[2] - mu.*u[2]\n",
    "    du[3] = sigma.*u[2] - gamma.*u[3] - mu.*u[3]\n",
    "    du[4] = gamma.*u[3] - mu.*u[4] -epsilon.*u[4]\n",
    "end"
   ]
  },
  {
   "cell_type": "code",
   "execution_count": null,
   "id": "0d18e270",
   "metadata": {},
   "outputs": [],
   "source": [
    "u0 = [N-20,10,10,0]                   #Initial conditions\n",
    "p = [r,beta,gamma,lambda,mu,epsilon]\n",
    "tspan = (0.0,200.0)               #Time course"
   ]
  },
  {
   "cell_type": "markdown",
   "id": "5e85b742",
   "metadata": {},
   "source": [
    "### Solve ODE"
   ]
  },
  {
   "cell_type": "code",
   "execution_count": null,
   "id": "63875ed2",
   "metadata": {},
   "outputs": [],
   "source": [
    "prob = ODEProblem(SEIR!,u0,tspan,p)\n",
    "sol = solve(prob);"
   ]
  },
  {
   "cell_type": "markdown",
   "id": "58f4c7b5",
   "metadata": {},
   "source": [
    "### Plot solutions"
   ]
  },
  {
   "cell_type": "code",
   "execution_count": null,
   "id": "fe48db97",
   "metadata": {},
   "outputs": [],
   "source": [
    "gr()"
   ]
  },
  {
   "cell_type": "code",
   "execution_count": null,
   "id": "875f0665",
   "metadata": {},
   "outputs": [],
   "source": [
    "plot(sol,lw=3,label=[\"Susceptible\" \"Exposed\" \"Infectious\" \"Recovered\"])\n",
    "# plot!(xlabel=\"Time (days)\", ylabel=\"Number of individuals\", \n",
    "#     xtickfontsize=10,ytickfontsize=10,xguidefontsize=18,yguidefontsize=18,legendfontsize=10,\n",
    "#     fmt = :png)\n",
    "plot!(xlabel=\"Time (days)\", ylabel=\"Number of individuals\", \n",
    "    xtickfontsize=10,ytickfontsize=10,xguidefontsize=18,yguidefontsize=18,legendfontsize=10)"
   ]
  },
  {
   "cell_type": "markdown",
   "id": "ce883827",
   "metadata": {},
   "source": [
    "# Questions to anwer\n",
    "\n",
    "- What if infected people have a different death rate?"
   ]
  }
 ],
 "metadata": {
  "kernelspec": {
   "display_name": "Julia 1.8.5 [conda env:base] *",
   "language": "julia",
   "name": "conda-base-julia-1.8"
  },
  "language_info": {
   "file_extension": ".jl",
   "mimetype": "application/julia",
   "name": "julia",
   "version": "1.8.5"
  }
 },
 "nbformat": 4,
 "nbformat_minor": 5
}
