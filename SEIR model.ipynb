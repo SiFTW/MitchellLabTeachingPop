{
 "cells": [
  {
   "cell_type": "markdown",
   "id": "4aef48ba",
   "metadata": {},
   "source": [
    "# SEIR model"
   ]
  },
  {
   "cell_type": "markdown",
   "id": "bb1b6938",
   "metadata": {},
   "source": [
    "#### This script is for an SEIR model to simulate an epidemic over time. The model consists of four differential equations describing the rate of change of variables over time. The 4 variables are:\n",
    "#### u[1] = S: Susceptible population\n",
    "#### u[2] = E: Exposed population\n",
    "#### u[3] = I: Infected population\n",
    "#### u[4] = R: Recovered population"
   ]
  },
  {
   "cell_type": "code",
   "execution_count": null,
   "id": "a22511e6",
   "metadata": {},
   "outputs": [],
   "source": []
  },
  {
   "cell_type": "code",
   "execution_count": 2,
   "id": "d41b1884",
   "metadata": {},
   "outputs": [],
   "source": [
    "using DifferentialEquations\n",
    "using Plots"
   ]
  },
  {
   "cell_type": "code",
   "execution_count": null,
   "id": "e35514fe",
   "metadata": {},
   "outputs": [],
   "source": []
  },
  {
   "cell_type": "markdown",
   "id": "fbf6cd88",
   "metadata": {},
   "source": [
    "### Define parameters"
   ]
  },
  {
   "cell_type": "code",
   "execution_count": 4,
   "id": "90e80a94",
   "metadata": {},
   "outputs": [
    {
     "data": {
      "text/plain": [
       "6.0e7"
      ]
     },
     "execution_count": 4,
     "metadata": {},
     "output_type": "execute_result"
    }
   ],
   "source": [
    "r = 2;         # number of contacts per unit time\n",
    "beta = 5e-9    # Prob. of disease transmission\n",
    "gamma = 0.12    # Recovery rate (Try 0.07)\n",
    "lambda = 100/6     # Birth and immigration per year\n",
    "mu = 1/60      #Death and emigration per year\n",
    "epsilon = 1/5   # Exposure rate (Incubation period)\n",
    "N = 6e7      # Population size N=S+I+R (To present as a ratio, use N=1. N=100 for percentage)"
   ]
  },
  {
   "cell_type": "code",
   "execution_count": null,
   "id": "e967aaa5",
   "metadata": {},
   "outputs": [],
   "source": []
  },
  {
   "cell_type": "markdown",
   "id": "df9ba67c",
   "metadata": {},
   "source": [
    "### Define differential equations"
   ]
  },
  {
   "cell_type": "code",
   "execution_count": 9,
   "id": "de68ac6e",
   "metadata": {},
   "outputs": [
    {
     "data": {
      "text/plain": [
       "SEIR! (generic function with 1 method)"
      ]
     },
     "execution_count": 9,
     "metadata": {},
     "output_type": "execute_result"
    }
   ],
   "source": [
    "function SEIR!(du,u,p,t)\n",
    "    du[1] = lambda - r.*beta.*u[1].*u[3] - mu.*u[1]\n",
    "    du[2] = r.*beta.*u[1].*u[3] - epsilon.*u[2] - mu.*u[2]\n",
    "    du[3] = epsilon.*u[2] - gamma.*u[3] - mu.*u[3]\n",
    "    du[4] = gamma.*u[3] - mu.*u[4]\n",
    "end"
   ]
  },
  {
   "cell_type": "code",
   "execution_count": 10,
   "id": "0d18e270",
   "metadata": {},
   "outputs": [
    {
     "data": {
      "text/plain": [
       "(0.0, 200.0)"
      ]
     },
     "execution_count": 10,
     "metadata": {},
     "output_type": "execute_result"
    }
   ],
   "source": [
    "u0 = [N-20,10,10,0]                   #Initial conditions\n",
    "p = [r,beta,gamma,lambda,mu,epsilon]\n",
    "tspan = (0.0,200.0)               #Time course"
   ]
  },
  {
   "cell_type": "code",
   "execution_count": null,
   "id": "42b4a5b3",
   "metadata": {},
   "outputs": [],
   "source": []
  },
  {
   "cell_type": "markdown",
   "id": "5e85b742",
   "metadata": {},
   "source": [
    "### Solve ODE"
   ]
  },
  {
   "cell_type": "code",
   "execution_count": 11,
   "id": "63875ed2",
   "metadata": {},
   "outputs": [],
   "source": [
    "prob = ODEProblem(SEIR!,u0,tspan,p)\n",
    "sol = solve(prob);"
   ]
  },
  {
   "cell_type": "code",
   "execution_count": null,
   "id": "db0d7ba5",
   "metadata": {},
   "outputs": [],
   "source": []
  },
  {
   "cell_type": "markdown",
   "id": "58f4c7b5",
   "metadata": {},
   "source": [
    "### Plot solutions"
   ]
  },
  {
   "cell_type": "code",
   "execution_count": null,
   "id": "875f0665",
   "metadata": {},
   "outputs": [],
   "source": [
    "plot(sol,lw=3,label=[\"Susceptible\" \"Exposed\" \"Infectious\" \"Recovered\"])\n",
    "plot!(xlabel=\"Time (days)\", ylabel=\"Number of individuals\", \n",
    "    xtickfontsize=10,ytickfontsize=10,xguidefontsize=18,yguidefontsize=18,legendfontsize=10,\n",
    "    fmt = :png)"
   ]
  },
  {
   "cell_type": "code",
   "execution_count": null,
   "id": "ba5ab880",
   "metadata": {},
   "outputs": [],
   "source": []
  },
  {
   "cell_type": "code",
   "execution_count": null,
   "id": "7cf02768",
   "metadata": {},
   "outputs": [],
   "source": []
  }
 ],
 "metadata": {
  "kernelspec": {
   "display_name": "Julia 1.8.0-DEV",
   "language": "julia",
   "name": "julia-1.8"
  },
  "language_info": {
   "file_extension": ".jl",
   "mimetype": "application/julia",
   "name": "julia",
   "version": "1.8.0"
  }
 },
 "nbformat": 4,
 "nbformat_minor": 5
}
