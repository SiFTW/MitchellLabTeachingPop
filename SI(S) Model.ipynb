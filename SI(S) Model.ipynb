{
 "cells": [
  {
   "cell_type": "markdown",
   "id": "ab6a0475",
   "metadata": {},
   "source": [
    "# SI/SIS model"
   ]
  },
  {
   "cell_type": "markdown",
   "id": "84276248",
   "metadata": {},
   "source": [
    "To run this sheet select the first block of code below and then shift+enter through each block of code and wait for the results."
   ]
  },
  {
   "cell_type": "markdown",
   "id": "5a9ffb63",
   "metadata": {},
   "source": [
    "#### This script is for an SI/SIS model to simulate an epidemic over time. The model consists of three differential equations describing the rate of change of variables over time. The 2 variables are:\n",
    "#### u[1] = S: Susceptible population\n",
    "#### u[2] = I: Infected population"
   ]
  },
  {
   "cell_type": "markdown",
   "id": "5d164c36",
   "metadata": {},
   "source": [
    "![SIR overview](SIRPicture.png)"
   ]
  },
  {
   "cell_type": "markdown",
   "id": "1025efd5",
   "metadata": {},
   "source": [
    "We need to use some cool software packages, this code will import them:"
   ]
  },
  {
   "cell_type": "code",
   "execution_count": null,
   "id": "033f022b",
   "metadata": {},
   "outputs": [],
   "source": [
    "using DifferentialEquations\n",
    "using Plots"
   ]
  },
  {
   "cell_type": "markdown",
   "id": "02d2130c",
   "metadata": {},
   "source": [
    "### Define parameters"
   ]
  },
  {
   "cell_type": "code",
   "execution_count": null,
   "id": "cac390a1",
   "metadata": {},
   "outputs": [],
   "source": [
    "r = 2;         # number of contacts per unit time\n",
    "beta = 5e-9    # Prob. of disease transmission\n",
    "gamma = 0.0    # Recovery rate (Try 0.12, 0.07)\n",
    "N = 6e7      # Population size N=S+I+R"
   ]
  },
  {
   "cell_type": "markdown",
   "id": "d212aa2c",
   "metadata": {},
   "source": [
    "### Define differential equations"
   ]
  },
  {
   "cell_type": "markdown",
   "id": "b7e8fcca",
   "metadata": {},
   "source": [
    "![SIR eqns](SIREqns.png)"
   ]
  },
  {
   "cell_type": "code",
   "execution_count": null,
   "id": "24240478",
   "metadata": {},
   "outputs": [],
   "source": [
    "function SIS!(du,u,p,t)\n",
    "    du[1] = -r.*beta.*u[1].*u[2] + gamma.*u[2]\n",
    "    du[2] = r.*beta.*u[1].*u[2] - gamma.*u[2]\n",
    "end"
   ]
  },
  {
   "cell_type": "code",
   "execution_count": null,
   "id": "c4a0272e",
   "metadata": {},
   "outputs": [],
   "source": [
    "u0 = [N,10]                   #Initial conditions\n",
    "p = [r,beta,gamma]              #parameters\n",
    "tspan = (0.0,100.0)               #Time course"
   ]
  },
  {
   "cell_type": "markdown",
   "id": "63bee5e4",
   "metadata": {},
   "source": [
    "### Solve ODE"
   ]
  },
  {
   "cell_type": "code",
   "execution_count": null,
   "id": "3540bb9d",
   "metadata": {},
   "outputs": [],
   "source": [
    "prob = ODEProblem(SIS!,u0,tspan,p)\n",
    "sol = solve(prob);"
   ]
  },
  {
   "cell_type": "markdown",
   "id": "ad9ec3db",
   "metadata": {},
   "source": [
    "### Plot solutions"
   ]
  },
  {
   "cell_type": "code",
   "execution_count": null,
   "id": "5afd556a",
   "metadata": {},
   "outputs": [],
   "source": [
    "plot(sol,lw=3,label=[\"Susceptible\" \"Infectious\"])\n",
    "plot!(xlabel=\"Time (days)\", ylabel=\"Number of individuals\", \n",
    "    xtickfontsize=10,ytickfontsize=10,xguidefontsize=18,yguidefontsize=18,legendfontsize=10,\n",
    "    fmt = :png)"
   ]
  },
  {
   "cell_type": "markdown",
   "id": "6e26e2ae",
   "metadata": {},
   "source": [
    "# Questions to answer now  "
   ]
  },
  {
   "cell_type": "markdown",
   "id": "b33c22cb",
   "metadata": {},
   "source": [
    "- What happens if the recovery rate gets higher?\n",
    "- What happens if the probability of transmission changes?\n",
    "\n",
    "Hint: go back to the top of the sheet and change a parameter and then shift+enter through the whole sheet.\n"
   ]
  }
 ],
 "metadata": {
  "kernelspec": {
   "display_name": "Julia 1.8.5 [conda env:base] *",
   "language": "julia",
   "name": "conda-base-julia-1.8"
  },
  "language_info": {
   "file_extension": ".jl",
   "mimetype": "application/julia",
   "name": "julia",
   "version": "1.8.5"
  }
 },
 "nbformat": 4,
 "nbformat_minor": 5
}
